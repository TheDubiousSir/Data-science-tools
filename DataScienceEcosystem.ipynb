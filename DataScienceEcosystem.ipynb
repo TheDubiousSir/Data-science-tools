{
 "cells": [
  {
   "cell_type": "markdown",
   "id": "91b825f2-5f64-42ed-a374-2b27f187f19f",
   "metadata": {},
   "source": [
    "# Data Science Tools and Ecosystem"
   ]
  },
  {
   "cell_type": "markdown",
   "id": "6ed7ae85-1725-4ff9-bf82-34b97cc09e06",
   "metadata": {},
   "source": [
    "In this notebook, Data Science Tools and Ecosystem are summarized."
   ]
  },
  {
   "cell_type": "markdown",
   "id": "377326d8-e92c-48ba-abd5-d0b054694e53",
   "metadata": {},
   "source": [
    "**Objectives**\n",
    "* List popular Data Science languages\n",
    "* List commonly used libraries\n",
    "* Create a table listing Data Science tools\n",
    "* Execute arithmetic using Python"
   ]
  },
  {
   "cell_type": "markdown",
   "id": "d4bd805f-c2a6-4ba6-81ad-cb37e99f75d3",
   "metadata": {},
   "source": [
    "# Some of the popular languages that Data Scientists use are:\n",
    "1. Python\n",
    "2. R\n",
    "3. Java\n",
    "4. Julia\n"
   ]
  },
  {
   "cell_type": "markdown",
   "id": "131e1eca-f350-403c-a79c-9ffd94ef2950",
   "metadata": {},
   "source": [
    "Some of the commonly used libraries used by Data Scientists include:\n",
    "1. Seaborn\n",
    "2. Matplotlib\n",
    "3. Pandas\n",
    "4. TensorFlow"
   ]
  },
  {
   "cell_type": "markdown",
   "id": "df5bb397-26fe-499b-8b92-4225346f398f",
   "metadata": {},
   "source": [
    "|Data Science Tools|\n",
    "|--------|\n",
    "|KNIME|\n",
    "|Hadoop|\n",
    "|Spark|\n",
    "|SAS|\n",
    " "
   ]
  },
  {
   "cell_type": "markdown",
   "id": "7bd85a75-9168-49a5-a888-dafafc2249b6",
   "metadata": {},
   "source": [
    "### Below area few examples of evaluating arithmetic expressions in Python."
   ]
  },
  {
   "cell_type": "code",
   "execution_count": 3,
   "id": "4879ccf2-577d-430c-8b1c-215fe1ed6531",
   "metadata": {},
   "outputs": [
    {
     "data": {
      "text/plain": [
       "17"
      ]
     },
     "execution_count": 3,
     "metadata": {},
     "output_type": "execute_result"
    }
   ],
   "source": [
    "#This is a simple arithetic expression to multiply then add integers.\n",
    "(3*4)+5"
   ]
  },
  {
   "cell_type": "code",
   "execution_count": 4,
   "id": "4a14a257-4e27-4695-b68e-2002bce541b1",
   "metadata": {},
   "outputs": [
    {
     "data": {
      "text/plain": [
       "3.3333333333333335"
      ]
     },
     "execution_count": 4,
     "metadata": {},
     "output_type": "execute_result"
    }
   ],
   "source": [
    "#This will convert 200 minutes to hours by dividing by 60\n",
    "200/60"
   ]
  },
  {
   "cell_type": "markdown",
   "id": "4f1284e3-8511-43cd-9e85-2cc731f59b13",
   "metadata": {
    "jp-MarkdownHeadingCollapsed": true
   },
   "source": [
    "## Author\n",
    "Robert Trautman"
   ]
  }
 ],
 "metadata": {
  "kernelspec": {
   "display_name": "Python 3 (ipykernel)",
   "language": "python",
   "name": "python3"
  },
  "language_info": {
   "codemirror_mode": {
    "name": "ipython",
    "version": 3
   },
   "file_extension": ".py",
   "mimetype": "text/x-python",
   "name": "python",
   "nbconvert_exporter": "python",
   "pygments_lexer": "ipython3",
   "version": "3.11.9"
  }
 },
 "nbformat": 4,
 "nbformat_minor": 5
}
